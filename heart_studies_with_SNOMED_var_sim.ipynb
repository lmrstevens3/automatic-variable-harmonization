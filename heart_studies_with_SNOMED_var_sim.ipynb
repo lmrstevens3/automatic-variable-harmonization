{
 "cells": [
  {
   "cell_type": "code",
   "execution_count": 16,
   "metadata": {},
   "outputs": [],
   "source": [
    "from automatic_variable_mapping import corpus, vocab_similarity\n",
    "import pandas as pd\n",
    "from functools import partial\n",
    "import time\n",
    "import numpy as np"
   ]
  },
  {
   "cell_type": "code",
   "execution_count": 17,
   "metadata": {},
   "outputs": [],
   "source": [
    "from automatic_variable_mapping.vocab_similarity import default_pairable, partition\n",
    "num_cpus = 14"
   ]
  },
  {
   "cell_type": "code",
   "execution_count": 18,
   "metadata": {},
   "outputs": [
    {
     "data": {
      "text/plain": [
       "<module 'automatic_variable_mapping.corpus' from 'automatic_variable_mapping/corpus.pyc'>"
      ]
     },
     "execution_count": 18,
     "metadata": {},
     "output_type": "execute_result"
    }
   ],
   "source": [
    "reload(corpus)"
   ]
  },
  {
   "cell_type": "code",
   "execution_count": 19,
   "metadata": {},
   "outputs": [],
   "source": [
    "def matching_groups(data, group_col, corpora, pair_id, ref_id):\n",
    "    corpus_doc_ids = [doc_id for doc_id, _ in corpora]\n",
    "    ref_idx = corpus_doc_ids.index(ref_id)\n",
    "    pair_idx = corpus_doc_ids.index(pair_id)\n",
    "    return data[pair_idx][group_col] == data[ref_idx][group_col]\n",
    "\n",
    "\n",
    "def pairable_by_group(data, group_col, corpus_doc_ids, score, pair_id, _, ref_id):\n",
    "    return vocab_similarity.default_pairable(score, pair_id, None, ref_id) and not matching_groups(data, group_col, corpus_doc_ids, pair_id, ref_id)\n",
    "\n",
    "\n",
    "def calc_score_results(data_file, doc_cols, ref_id_col, filter_file, mult_corpora=False, corpora_col=None):\n",
    "    data = pd.read_csv(data_file,\n",
    "                       sep=\",\",\n",
    "                       quotechar='\"',\n",
    "                       na_values=\"\",\n",
    "                       low_memory=False)\n",
    "    if mult_corpora:\n",
    "        corpora_data = partition(data, corpora_col)\n",
    "    else:\n",
    "        corpora_data = [data]\n",
    "    \n",
    "    if filter_file != data_file:\n",
    "        filter_data = pd.read_csv(filter_file,\n",
    "                                  sep=\",\",\n",
    "                                  quotechar='\"',\n",
    "                                  na_values=\"\",\n",
    "                                  low_memory=False)\n",
    "    else:\n",
    "        filter_data = data\n",
    "\n",
    "    #idc = list(doc_cols)\n",
    "    #idc.append(ref_id_col)\n",
    "    #print corpora_data[0][idc]\n",
    "    corpora = corpus.build_corpora(doc_cols, corpora_data, ref_id_col, num_cpus=num_cpus)\n",
    "    tfidf_matrix = corpus.calc_tfidf(corpora)\n",
    "\n",
    "    scores = vocab_similarity.VariableSimilarityCalculator(filter_data[ref_id_col],\n",
    "                                                           pairable=default_pairable)\n",
    "\n",
    "    scores.init_cache()\n",
    "    if mult_corpora:\n",
    "        scores.score_variables(corpora, tfidf_matrix)\n",
    "    else:\n",
    "        scores.score_variables(corpora[0], tfidf_matrix)\n",
    "    return(scores.cache)"
   ]
  },
  {
   "cell_type": "code",
   "execution_count": 20,
   "metadata": {},
   "outputs": [],
   "source": [
    "obs_data_file = \"~/Dropbox/tiff_laura_shared/var_doc_obs_heart_studies_dbGaP_NLP.csv\"\n",
    "obs_man_file = \"~/Dropbox/tiff_laura_shared/manual_concept_var_mappings_dbGaP_obs_heart_studies_NLP.csv\"\n",
    "ref_id_col = 'dbGaP_studyID_datasetID_varID'\n",
    "doc_cols_inputs = {'desc': ['variable_description'],\n",
    "                   #'units': ['units'],\n",
    "                   #'coding': ['variable_coding_counts_distribution'],\n",
    "                   #'desc_units': ['variable_description', 'units'],\n",
    "                   #'desc_coding': ['variable_description', 'units', 'variable_coding_counts_distribution'],\n",
    "                   #'desc_units_coding': ['variable_description', 'units', 'variable_coding_counts_distribution']\n",
    "                  }\n"
   ]
  },
  {
   "cell_type": "code",
   "execution_count": 21,
   "metadata": {},
   "outputs": [
    {
     "data": {
      "text/plain": [
       "Index([u'study', u'cohort_dbGaP', u'dbGaP_studyID_datasetID',\n",
       "       u'dbGaP_dataset_label', u'concept', u'data_desc', u'varID', u'var_desc',\n",
       "       u'units', u'var_coding_counts_distribution', u'var_doc_id',\n",
       "       u'concept_id', u'dbGaP_studyID_datasetID_varID', u'var_coding_labels'],\n",
       "      dtype='object')"
      ]
     },
     "execution_count": 21,
     "metadata": {},
     "output_type": "execute_result"
    }
   ],
   "source": [
    "dt = pd.read_csv(obs_man_file,\n",
    "                       sep=\",\",\n",
    "                       quotechar='\"',\n",
    "                       na_values=\"\",\n",
    "                       low_memory=False)\n",
    "dt\n",
    "dt.columns"
   ]
  },
  {
   "cell_type": "code",
   "execution_count": 22,
   "metadata": {},
   "outputs": [],
   "source": [
    "def calc_scores_doc_cols(data_file, doc_cols_inputs, ref_id_col, filter_file, mult_corpora=False, corpora_col=None):\n",
    "    scores_dfs = list()\n",
    "    for key in doc_cols_inputs:\n",
    "        score_name = \"score_\" + key\n",
    "        scores_df = calc_score_results(data_file, doc_cols_inputs[key], ref_id_col, filter_file, mult_corpora, corpora_col)\n",
    "        scores_df = scores_df.rename({'score': score_name}, axis=1)\n",
    "        scores_dfs.append(scores_df)\n",
    "\n",
    "    #scores_merged = reduce(lambda left, right: pd.merge(left, right, on=[ref_id_col],\n",
    "    #                                               how='outer'), scores_dfs)\n",
    "    #return(scores_merged)\n",
    "    return(scores_dfs)"
   ]
  },
  {
   "cell_type": "code",
   "execution_count": null,
   "metadata": {
    "scrolled": false
   },
   "outputs": [
    {
     "name": "stderr",
     "output_type": "stream",
     "text": [
      "100%|██████████| 105611/105611 [00:12<00:00, 8714.88it/s] \n"
     ]
    },
    {
     "name": "stdout",
     "output_type": "stream",
     "text": [
      "Finding valid pair ids\n",
      "Pair ids: 105611\n",
      "Finding valid ref ids\n",
      "Ref ids: 1709\n",
      "Multiplying matrices\n",
      "LHS: (105611, 33026)\n",
      "RHS: (1709, 33026)\n",
      "Sim Matrix: (1709, 105611)\n"
     ]
    }
   ],
   "source": [
    "obs_scores_tfidf = calc_scores_doc_cols(obs_data_file, doc_cols_inputs, ref_id_col, obs_man_file)\n",
    "\n",
    "#obs_scores_tfmcdf = calc_scores_doc_cols(obs_data_file, doc_cols_inputs, ref_id_col, obs_man_file, mult_corpora=True, corpora_col='study_1')"
   ]
  },
  {
   "cell_type": "code",
   "execution_count": null,
   "metadata": {},
   "outputs": [],
   "source": [
    "#TO DO add standard and add same above but for clinical trials\n",
    "\n",
    "#doc_col = list(\"var_desc_1”, “units_1\", “var_coding_counts_distribution_1\")\n",
    "score_file = 'tests/test_var_similarity_scores_rank_data.csv'"
   ]
  },
  {
   "cell_type": "code",
   "execution_count": null,
   "metadata": {},
   "outputs": [],
   "source": [
    "orig_out_file_name = \"tests/orig_file_out.csv\"\n",
    "\n",
    "comb = pd.merge(orig_data, v.cache, how='left', left_on=['metadataID_1', 'metadataID_2'],\n",
    "                right_on=['reference var', 'paired var']).round(6)\n",
    "\n",
    "assert comb.loc[comb['score'] == comb['score_desc']][\n",
    "           [\"score_desc\", \"score\", \"reference var\", \"metadataID_1\", \"metadataID_2\", \"paired var\"]].shape[0] == \\\n",
    "       orig_data.shape[0]"
   ]
  }
 ],
 "metadata": {
  "kernelspec": {
   "display_name": "Python2 (test)",
   "language": "python",
   "name": "test"
  },
  "language_info": {
   "codemirror_mode": {
    "name": "ipython",
    "version": 2
   },
   "file_extension": ".py",
   "mimetype": "text/x-python",
   "name": "python",
   "nbconvert_exporter": "python",
   "pygments_lexer": "ipython2",
   "version": "2.7.18"
  }
 },
 "nbformat": 4,
 "nbformat_minor": 2
}
