{
 "cells": [
  {
   "cell_type": "code",
   "execution_count": 1,
   "metadata": {},
   "outputs": [
    {
     "name": "stderr",
     "output_type": "stream",
     "text": [
      "[nltk_data] Downloading package stopwords to\n",
      "[nltk_data]     /home/harrison/nltk_data...\n",
      "[nltk_data]   Package stopwords is already up-to-date!\n",
      "[nltk_data] Downloading package wordnet to /home/harrison/nltk_data...\n",
      "[nltk_data]   Package wordnet is already up-to-date!\n"
     ]
    }
   ],
   "source": [
    "from automatic_variable_mapping import corpus\n",
    "from automatic_variable_mapping.vocab_similarity import VariableSimilarityCalculator\n",
    "import pandas as pd\n",
    "import numpy as np"
   ]
  },
  {
   "cell_type": "code",
   "execution_count": 2,
   "metadata": {},
   "outputs": [],
   "source": [
    "ref_id_col = 'dbGaP_studyID_datasetID_varID_1'\n",
    "doc_col = 'var_desc_1'\n",
    "# doc_col = list(\"var_desc_1”, “units_1, “var_coding_counts_distribution_1)\n",
    "data_file = \"tests/test_mannual_map_ref_data.csv\"\n",
    "score_file = 'tests/test_var_similarity_scores_rank_data.csv'"
   ]
  },
  {
   "cell_type": "code",
   "execution_count": 3,
   "metadata": {},
   "outputs": [],
   "source": [
    "data = pd.read_csv(data_file,\n",
    "                      sep=\",\",\n",
    "                      quotechar='\"',\n",
    "                      na_values=\"\",\n",
    "                      low_memory=False)"
   ]
  },
  {
   "cell_type": "code",
   "execution_count": 4,
   "metadata": {},
   "outputs": [],
   "source": [
    "corpora = corpus.build_corpora([doc_col], [data], ref_id_col)"
   ]
  },
  {
   "cell_type": "code",
   "execution_count": 5,
   "metadata": {},
   "outputs": [],
   "source": [
    "tfidf_matrix = corpus.calc_tfidf(corpora)"
   ]
  },
  {
   "cell_type": "code",
   "execution_count": 13,
   "metadata": {},
   "outputs": [
    {
     "data": {
      "text/plain": [
       "scipy.sparse.csr.csr_matrix"
      ]
     },
     "execution_count": 13,
     "metadata": {},
     "output_type": "execute_result"
    }
   ],
   "source": [
    "type(tfidf_matrix)"
   ]
  },
  {
   "cell_type": "code",
   "execution_count": 6,
   "metadata": {},
   "outputs": [
    {
     "name": "stdout",
     "output_type": "stream",
     "text": [
      "Finding valid ref ids\n",
      "Multiplying matrices\n",
      "Finding matches for 0\n",
      "Finding matches for 1\n",
      "Finding matches for 2\n",
      "Finding matches for 3\n",
      "Finding matches for 4\n",
      "Finding matches for 5\n",
      "Finding matches for 6\n",
      "Finding matches for 7\n",
      "Finding matches for 8\n",
      "Finding matches for 9\n",
      "Finding matches for 10\n",
      "Finding matches for 11\n",
      "Finding matches for 12\n",
      "Finding matches for 13\n",
      "Finding matches for 14\n",
      "Finding matches for 15\n",
      "Finding matches for 16\n",
      "Finding matches for 17\n",
      "Finding matches for 18\n",
      "Finding matches for 19\n",
      "Finding matches for 20\n",
      "Finding matches for 21\n",
      "Finding matches for 22\n",
      "Finding matches for 23\n",
      "Finding matches for 24\n",
      "Finding matches for 25\n",
      "Finding matches for 26\n",
      "Finding matches for 27\n",
      "Finding matches for 28\n",
      "Finding matches for 29\n",
      "Finding matches for 30\n",
      "Finding matches for 31\n",
      "Finding matches for 32\n",
      "Finding matches for 33\n",
      "Finding matches for 34\n",
      "Finding matches for 35\n",
      "Finding matches for 36\n",
      "Finding matches for 37\n",
      "Finding matches for 38\n",
      "Finding matches for 39\n",
      "Finding matches for 40\n",
      "Finding matches for 41\n",
      "Finding matches for 42\n",
      "Finding matches for 43\n",
      "Finding matches for 44\n",
      "Finding matches for 45\n",
      "Finding matches for 46\n",
      "Finding matches for 47\n",
      "Finding matches for 48\n",
      "Finding matches for 49\n",
      "Finding matches for 50\n",
      "Finding matches for 51\n",
      "Finding matches for 52\n",
      "Finding matches for 53\n",
      "Finding matches for 54\n",
      "Finding matches for 55\n",
      "Finding matches for 56\n",
      "Finding matches for 57\n",
      "Finding matches for 58\n",
      "Finding matches for 59\n",
      "Finding matches for 60\n",
      "Finding matches for 61\n",
      "Finding matches for 62\n",
      "Finding matches for 63\n",
      "Finding matches for 64\n",
      "Finding matches for 65\n",
      "Finding matches for 66\n",
      "Finding matches for 67\n",
      "Finding matches for 68\n",
      "Finding matches for 69\n",
      "Finding matches for 70\n",
      "Finding matches for 71\n",
      "Finding matches for 72\n",
      "Finding matches for 73\n",
      "Finding matches for 74\n",
      "Finding matches for 75\n",
      "Finding matches for 76\n",
      "Finding matches for 77\n",
      "Finding matches for 78\n",
      "Finding matches for 79\n",
      "Finding matches for 80\n",
      "Finding matches for 81\n",
      "Finding matches for 82\n",
      "Finding matches for 83\n",
      "Finding matches for 84\n",
      "Finding matches for 85\n",
      "Finding matches for 86\n",
      "Finding matches for 87\n",
      "Finding matches for 88\n",
      "Finding matches for 89\n",
      "Finding matches for 90\n",
      "Finding matches for 91\n",
      "Finding matches for 92\n",
      "Finding matches for 93\n",
      "Finding matches for 94\n",
      "Finding matches for 95\n",
      "Finding matches for 96\n",
      "Finding matches for 97\n",
      "Finding matches for 98\n",
      "Finding matches for 99\n",
      "Finding matches for 100\n",
      "Finding matches for 101\n",
      "Finding matches for 102\n",
      "Finding matches for 103\n",
      "Finding matches for 104\n",
      "Finding matches for 105\n",
      "Finding matches for 106\n",
      "Finding matches for 107\n",
      "Finding matches for 108\n",
      "Finding matches for 109\n",
      "Finding matches for 110\n",
      "Finding matches for 111\n",
      "Finding matches for 112\n",
      "Finding matches for 113\n",
      "Finding matches for 114\n",
      "Finding matches for 115\n",
      "Finding matches for 116\n",
      "Finding matches for 117\n",
      "Finding matches for 118\n",
      "Finding matches for 119\n",
      "Finding matches for 120\n",
      "Finding matches for 121\n",
      "Finding matches for 122\n",
      "Finding matches for 123\n",
      "Finding matches for 124\n",
      "Finding matches for 125\n",
      "Finding matches for 126\n",
      "Finding matches for 127\n",
      "Finding matches for 128\n",
      "Finding matches for 129\n",
      "Finding matches for 130\n",
      "Finding matches for 131\n",
      "Finding matches for 132\n",
      "Finding matches for 133\n",
      "Finding matches for 134\n",
      "Finding matches for 135\n",
      "Finding matches for 136\n",
      "Finding matches for 137\n",
      "Finding matches for 138\n",
      "Finding matches for 139\n",
      "Finding matches for 140\n",
      "Finding matches for 141\n",
      "Finding matches for 142\n",
      "Finding matches for 143\n",
      "Finding matches for 144\n",
      "Finding matches for 145\n",
      "Finding matches for 146\n",
      "Finding matches for 147\n",
      "Finding matches for 148\n",
      "Finding matches for 149\n",
      "Finding matches for 150\n",
      "Finding matches for 151\n",
      "Finding matches for 152\n",
      "Finding matches for 153\n",
      "Finding matches for 154\n",
      "Finding matches for 155\n",
      "Finding matches for 156\n",
      "Finding matches for 157\n",
      "Finding matches for 158\n",
      "Finding matches for 159\n",
      "Finding matches for 160\n",
      "Finding matches for 161\n",
      "Finding matches for 162\n"
     ]
    }
   ],
   "source": [
    "v = VariableSimilarityCalculator(data[ref_id_col])\n",
    "v.init_cache()\n",
    "result = v.score_variables(corpora[0], tfidf_matrix)"
   ]
  },
  {
   "cell_type": "code",
   "execution_count": 7,
   "metadata": {},
   "outputs": [],
   "source": [
    "orig_out_file_name = \"tests/orig_file_out.csv\"\n",
    "orig_data = pd.read_csv(orig_out_file_name)"
   ]
  },
  {
   "cell_type": "code",
   "execution_count": 8,
   "metadata": {},
   "outputs": [],
   "source": [
    "comb = pd.merge(orig_data, result, how='left', left_on=[ 'metadataID_1', 'metadataID_2' ], right_on=[ 'reference var', 'paired var' ]).round(6)\n"
   ]
  },
  {
   "cell_type": "code",
   "execution_count": 9,
   "metadata": {},
   "outputs": [
    {
     "data": {
      "text/plain": [
       "0       1.000000\n",
       "1       1.000000\n",
       "2       1.000000\n",
       "3       0.617662\n",
       "4       0.453029\n",
       "5       0.453029\n",
       "6       0.453029\n",
       "7       0.342021\n",
       "8       0.320681\n",
       "9       0.617662\n",
       "10      0.617662\n",
       "11      0.617662\n",
       "12      0.617662\n",
       "13      0.467201\n",
       "14      0.401226\n",
       "15      0.279819\n",
       "16      0.279819\n",
       "17      0.279819\n",
       "18      0.211253\n",
       "19      0.198072\n",
       "20      1.000000\n",
       "21      1.000000\n",
       "22      1.000000\n",
       "23      1.000000\n",
       "24      1.000000\n",
       "25      1.000000\n",
       "26      1.000000\n",
       "27      1.000000\n",
       "28      1.000000\n",
       "29      1.000000\n",
       "          ...   \n",
       "5926    0.604872\n",
       "5927    0.604872\n",
       "5928    0.386266\n",
       "5929    0.380108\n",
       "5930    0.377598\n",
       "5931    0.323996\n",
       "5932    0.278933\n",
       "5933    0.278933\n",
       "5934    0.252383\n",
       "5935    0.232209\n",
       "5936    0.229260\n",
       "5937    1.000000\n",
       "5938    1.000000\n",
       "5939    1.000000\n",
       "5940    1.000000\n",
       "5941    1.000000\n",
       "5942    1.000000\n",
       "5943    1.000000\n",
       "5944    1.000000\n",
       "5945    1.000000\n",
       "5946    1.000000\n",
       "5947    1.000000\n",
       "5948    1.000000\n",
       "5949    1.000000\n",
       "5950    1.000000\n",
       "5951    1.000000\n",
       "5952    1.000000\n",
       "5953    1.000000\n",
       "5954    1.000000\n",
       "5955    0.491981\n",
       "Name: score, Length: 5956, dtype: float64"
      ]
     },
     "execution_count": 9,
     "metadata": {},
     "output_type": "execute_result"
    }
   ],
   "source": [
    "comb['score']"
   ]
  },
  {
   "cell_type": "code",
   "execution_count": 12,
   "metadata": {},
   "outputs": [
    {
     "name": "stdout",
     "output_type": "stream",
     "text": [
      "Success\n"
     ]
    }
   ],
   "source": [
    "assert comb.loc[comb['score'] == comb['score_desc']][[\"score_desc\", \"score\", \"reference var\", \"metadataID_1\", \"metadataID_2\", \"paired var\"]].shape[0] == orig_data.shape[0]\n",
    "print \"Success\""
   ]
  },
  {
   "cell_type": "code",
   "execution_count": null,
   "metadata": {},
   "outputs": [],
   "source": []
  }
 ],
 "metadata": {
  "kernelspec": {
   "display_name": "Python2 (test)",
   "language": "python",
   "name": "test"
  },
  "language_info": {
   "codemirror_mode": {
    "name": "ipython",
    "version": 2
   },
   "file_extension": ".py",
   "mimetype": "text/x-python",
   "name": "python",
   "nbconvert_exporter": "python",
   "pygments_lexer": "ipython2",
   "version": "2.7.18"
  },
  "name": "test_subset_vocab_sim.ipynb"
 },
 "nbformat": 4,
 "nbformat_minor": 2
}
