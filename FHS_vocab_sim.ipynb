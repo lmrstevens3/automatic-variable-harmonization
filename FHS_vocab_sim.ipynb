{
 "cells": [
  {
   "cell_type": "code",
   "execution_count": 2,
   "metadata": {
    "collapsed": false
   },
   "outputs": [
    {
     "name": "stderr",
     "output_type": "stream",
     "text": [
      "[nltk_data] Downloading package stopwords to\n",
      "[nltk_data]     /home/harrisonpl/nltk_data...\n",
      "[nltk_data]   Package stopwords is already up-to-date!\n",
      "[nltk_data] Downloading package wordnet to\n",
      "[nltk_data]     /home/harrisonpl/nltk_data...\n",
      "[nltk_data]   Package wordnet is already up-to-date!\n"
     ]
    }
   ],
   "source": [
    "from automatic_variable_mapping.corpus import CorpusBuilder\n",
    "from automatic_variable_mapping.vocab_similarity import VariableSimilarityCalculator\n",
    "import pandas as pd\n",
    "import numpy as np"
   ]
  },
  {
   "cell_type": "code",
   "execution_count": 7,
   "metadata": {
    "collapsed": false
   },
   "outputs": [],
   "source": [
    "ref_id_col = 'dbGaP_studyID_datasetID_varID_1'\n",
    "doc_col = 'var_desc_1'\n",
    "# doc_col = list(\"var_desc_1”, “units_1, “var_coding_counts_distribution_1)\n",
    "data_file = \"tests/test_mannual_map_ref_data.csv\"\n",
    "score_file = 'tests/test_var_similarity_scores_rank_data.csv'"
   ]
  },
  {
   "cell_type": "code",
   "execution_count": 8,
   "metadata": {
    "collapsed": false
   },
   "outputs": [],
   "source": [
    "data = pd.read_csv(data_file,\n",
    "                      sep=\",\",\n",
    "                      quotechar='\"',\n",
    "                      na_values=\"\",\n",
    "                      low_memory=False)"
   ]
  },
  {
   "cell_type": "code",
   "execution_count": 9,
   "metadata": {
    "collapsed": false
   },
   "outputs": [],
   "source": [
    "cb = CorpusBuilder(doc_col)\n",
    "cb.build_corpora([data], ref_id_col)"
   ]
  },
  {
   "cell_type": "code",
   "execution_count": 13,
   "metadata": {
    "collapsed": false
   },
   "outputs": [
    {
     "data": {
      "text/plain": [
       "[('phs000007.v26.pht000009.v2.MF5', ['education']),\n",
       " ('phs000007.v26.pht000031.v7.B43', ['year', 'education']),\n",
       " ('phs000007.v26.pht000183.v12.sex', ['gender']),\n",
       " ('phs000007.v26.pht000675.v3.SCORE1',\n",
       "  ['aortic',\n",
       "   'valve',\n",
       "   'calcium',\n",
       "   'score',\n",
       "   'first',\n",
       "   'scan',\n",
       "   'multiple',\n",
       "   'observer',\n",
       "   'may',\n",
       "   'completed',\n",
       "   'score']),\n",
       " ('phs000007.v26.pht000680.v5.NUT_CALOR',\n",
       "  ['derived', 'field', 'calorie', 'kcal']),\n",
       " ('phs000007.v26.pht000680.v5.NUT_ALCO',\n",
       "  ['derived', 'field', 'nutrient', 'value', 'alcohol', 'gm']),\n",
       " ('phs000007.v26.pht000681.v5.NUT_CALOR',\n",
       "  ['derived', 'field', 'calorie', 'kcal']),\n",
       " ('phs000007.v26.pht000681.v5.NUT_ALCO',\n",
       "  ['derived', 'field', 'nutrient', 'value', 'alcohol', 'gm']),\n",
       " ('phs000007.v26.pht000682.v5.NUT_CALOR',\n",
       "  ['derived', 'field', 'calorie', 'kcal']),\n",
       " ('phs000007.v26.pht000682.v5.NUT_ALCO',\n",
       "  ['derived', 'field', 'nutrient', 'value', 'alcohol', 'gm']),\n",
       " ('phs000007.v26.pht000747.v5.H702',\n",
       "  ['following', 'best', 'describes', 'race', 'caucasian', 'white']),\n",
       " ('phs000007.v26.pht000747.v5.H703',\n",
       "  ['following', 'best', 'describes', 'race', 'african', 'american', 'black']),\n",
       " ('phs000007.v26.pht000747.v5.H704',\n",
       "  ['following', 'best', 'describes', 'race', 'asian']),\n",
       " ('phs000007.v26.pht000747.v5.H705',\n",
       "  ['following',\n",
       "   'best',\n",
       "   'describes',\n",
       "   'race',\n",
       "   'native',\n",
       "   'hawaiian',\n",
       "   'pacific',\n",
       "   'islander']),\n",
       " ('phs000007.v26.pht000747.v5.H706',\n",
       "  ['following',\n",
       "   'best',\n",
       "   'describes',\n",
       "   'race',\n",
       "   'american',\n",
       "   'indian',\n",
       "   'alaska',\n",
       "   'native']),\n",
       " ('phs000007.v26.pht000747.v5.H708',\n",
       "  ['highest',\n",
       "   'degree',\n",
       "   'level',\n",
       "   'school',\n",
       "   'completed',\n",
       "   'currently',\n",
       "   'enrolled',\n",
       "   'mark',\n",
       "   'highest',\n",
       "   'grade',\n",
       "   'completed',\n",
       "   'degree',\n",
       "   'received']),\n",
       " ('phs000007.v26.pht000747.v5.H707',\n",
       "  ['following', 'best', 'describes', 'race', 'prefer', 'answer']),\n",
       " ('phs000007.v26.pht000747.v5.H700',\n",
       "  ['following', 'best', 'describes', 'ethnicity', 'hispanic', 'latino']),\n",
       " ('phs000007.v26.pht000747.v5.H701',\n",
       "  ['following', 'best', 'describes', 'ethnicity', 'hispanic', 'latino']),\n",
       " ('phs000007.v26.pht002151.v1.SCORE1',\n",
       "  ['derived', 'field', 'calorie', 'kcal']),\n",
       " ('phs000007.v26.pht002151.v1.SCORE33',\n",
       "  ['derived', 'field', 'nutrient', 'value', 'alcohol', 'gm']),\n",
       " ('phs000007.v26.pht002152.v1.SCORE1',\n",
       "  ['derived', 'field', 'calorie', 'kcal']),\n",
       " ('phs000007.v26.pht002152.v1.SCORE33',\n",
       "  ['derived', 'field', 'nutrient', 'value', 'alcohol', 'gm']),\n",
       " ('phs000007.v26.pht002153.v1.SCORE1',\n",
       "  ['derived', 'field', 'calorie', 'kcal']),\n",
       " ('phs000007.v26.pht002153.v1.SCORE33',\n",
       "  ['derived', 'field', 'nutrient', 'value', 'alcohol', 'gm']),\n",
       " ('phs000007.v26.pht002350.v4.NUT_CALOR',\n",
       "  ['derived', 'field', 'nutrient', 'value', 'calorie']),\n",
       " ('phs000007.v26.pht002350.v4.NUT_ALCO', ['alcohol']),\n",
       " ('phs000007.v26.pht003099.v4.sex', ['participant', 'gender']),\n",
       " ('phs000007.v26.pht003099.v4.age1', ['age', 'exam', '1']),\n",
       " ('phs000007.v26.pht003099.v4.age2', ['age', 'exam', '2']),\n",
       " ('phs000007.v26.pht003099.v4.age3', ['age', 'exam', '3']),\n",
       " ('phs000007.v26.pht003099.v4.age4', ['age', 'exam', '4']),\n",
       " ('phs000007.v26.pht003099.v4.age5', ['age', 'exam', '5']),\n",
       " ('phs000007.v26.pht003099.v4.age6', ['age', 'exam', '6']),\n",
       " ('phs000007.v26.pht003099.v4.age7', ['age', 'exam', '7']),\n",
       " ('phs000007.v26.pht003099.v4.age8', ['age', 'exam', '8']),\n",
       " ('phs000007.v26.pht003099.v4.age9', ['age', 'exam', '9']),\n",
       " ('phs000007.v26.pht003099.v4.age10', ['age', 'exam', '10']),\n",
       " ('phs000007.v26.pht003099.v4.age11', ['age', 'exam', '11']),\n",
       " ('phs000007.v26.pht003099.v4.age12', ['age', 'exam', '12']),\n",
       " ('phs000007.v26.pht003099.v4.age13', ['age', 'exam', '13']),\n",
       " ('phs000007.v26.pht003099.v4.age14', ['age', 'exam', '14']),\n",
       " ('phs000007.v26.pht003099.v4.age15', ['age', 'exam', '15']),\n",
       " ('phs000007.v26.pht003099.v4.age16', ['age', 'exam', '16']),\n",
       " ('phs000007.v26.pht003099.v4.age17', ['age', 'exam', '17']),\n",
       " ('phs000007.v26.pht003099.v4.age18', ['age', 'exam', '18']),\n",
       " ('phs000007.v26.pht003099.v4.age19', ['age', 'exam', '19']),\n",
       " ('phs000007.v26.pht003099.v4.age21', ['age', 'exam', '21']),\n",
       " ('phs000007.v26.pht003099.v4.age22', ['age', 'exam', '22']),\n",
       " ('phs000007.v26.pht003099.v4.age23', ['age', 'exam', '23']),\n",
       " ('phs000007.v26.pht003099.v4.age24', ['age', 'exam', '24']),\n",
       " ('phs000007.v26.pht003099.v4.age25', ['age', 'exam', '25']),\n",
       " ('phs000007.v26.pht003099.v4.age26', ['age', 'exam', '26']),\n",
       " ('phs000007.v26.pht003099.v4.age27', ['age', 'exam', '27']),\n",
       " ('phs000007.v26.pht003099.v4.age28', ['age', 'exam', '28']),\n",
       " ('phs000007.v26.pht003099.v4.age29', ['age', 'exam', '29']),\n",
       " ('phs000007.v26.pht003099.v4.age30', ['age', 'exam', '30']),\n",
       " ('phs000007.v26.pht003099.v4.age31', ['age', 'exam', '31']),\n",
       " ('phs000007.v26.pht003099.v4.age32', ['age', 'exam', '32']),\n",
       " ('phs000007.v26.pht003099.v4.age20', ['age', 'exam', '20']),\n",
       " ('phs000007.v26.pht003315.v4.afx',\n",
       "  ['atrial', 'fibrillation', 'atrial', 'flutter', 'af', 'status']),\n",
       " ('phs000007.v26.pht003315.v4.afxdate',\n",
       "  ['date', 'atrial', 'fibrillation', 'atrial', 'flutter', 'status']),\n",
       " ('phs000007.v26.pht003316.v4.cvd',\n",
       "  ['cardiovascular', 'disease', 'cvd', 'status']),\n",
       " ('phs000007.v26.pht003316.v4.chd',\n",
       "  ['coronary', 'heart', 'disease', 'chd', 'status']),\n",
       " ('phs000007.v26.pht003317.v4.DTHRVWD', ['death', 'reviewed', 'status']),\n",
       " ('phs000287.v5.pht001450.v1.GEND01', ['gender']),\n",
       " ('phs000287.v5.pht001450.v1.GRADE01', ['education']),\n",
       " ('phs000287.v5.pht001450.v1.AGEBL', ['calculated', 'age', 'baseline']),\n",
       " ('phs000287.v5.pht001450.v1.RACE01', ['race']),\n",
       " ('phs000287.v5.pht001451.v1.KCALCOH', ['kcal', 'alcohol']),\n",
       " ('phs000287.v5.pht001451.v1.YRKCAL', ['kcal', 'whole', 'year']),\n",
       " ('phs000287.v5.pht001452.v1.GRADE01', ['education']),\n",
       " ('phs000287.v5.pht001452.v1.GEND01', ['gender']),\n",
       " ('phs000287.v5.pht001452.v1.AGEBL', ['calculated', 'age', 'baseline']),\n",
       " ('phs000287.v5.pht001452.v1.RACE01', ['race']),\n",
       " ('phs000287.v5.pht001464.v1.DEATH', ['death', 'indicator']),\n",
       " ('phs000287.v5.pht001464.v1.INCCHD', ['incident', 'chd']),\n",
       " ('phs000287.v5.pht001466.v1.GEND01', ['gender']),\n",
       " ('phs000287.v5.pht001466.v1.DEATH', ['death', 'indicator']),\n",
       " ('phs000287.v5.pht001466.v1.AGE2',\n",
       "  ['age', 'baseline', '2', 'year', 'category']),\n",
       " ('phs000287.v5.pht001466.v1.RACE01', ['race']),\n",
       " ('phs000287.v5.pht001474.v1.GEND01', ['gender']),\n",
       " ('phs000287.v5.pht001474.v1.AGEY10', ['age', 'visit']),\n",
       " ('phs000287.v5.pht001488.v1.AGEY3',\n",
       "  ['calculated', 'age', 'yr', '3', 'visit']),\n",
       " ('phs000287.v5.pht001489.v1.AGEY4',\n",
       "  ['calculated', 'age', 'yr', '4', 'visit']),\n",
       " ('phs000287.v5.pht001490.v1.GRADE01', ['education']),\n",
       " ('phs000287.v5.pht001490.v1.AGEBL',\n",
       "  ['calculated', 'age', 'baseline', 'visit']),\n",
       " ('phs000287.v5.pht001490.v1.GEND01', ['gender']),\n",
       " ('phs000287.v5.pht001490.v1.RACE01', ['race']),\n",
       " ('phs000287.v5.pht001491.v2.GEND01', ['gender']),\n",
       " ('phs000287.v5.pht001491.v2.AGEY5',\n",
       "  ['calculated', 'age', 'yr', '5', 'visit']),\n",
       " ('phs000287.v5.pht001492.v1.AGEY6',\n",
       "  ['calculated', 'age', 'yr', '6', 'visit']),\n",
       " ('phs000287.v5.pht001493.v1.GEND01', ['gender']),\n",
       " ('phs000287.v5.pht001493.v1.AGEY7',\n",
       "  ['calculated', 'age', 'yr', '7', 'visit']),\n",
       " ('phs000287.v5.pht001494.v1.GEND01', ['gender']),\n",
       " ('phs000287.v5.pht001494.v1.AGEY8',\n",
       "  ['calculated', 'age', 'yr', '8', 'visit']),\n",
       " ('phs000287.v5.pht001495.v1.GEND01', ['gender']),\n",
       " ('phs000287.v5.pht001495.v1.AGEY9',\n",
       "  ['calculated', 'age', 'yr', '9', 'visit']),\n",
       " ('phs000280.v3.pht004036.v1.ALCO',\n",
       "  ['alcohol', 'intake', 'g', 'per', 'day', 'nutrient', 'anut', 'exam', '1']),\n",
       " ('phs000280.v3.pht004036.v1.TCAL',\n",
       "  ['energy', 'kcal', 'nutrient', 'anut', 'exam', '1']),\n",
       " ('phs000280.v3.pht004062.v1.V2AGE22',\n",
       "  ['age', 'visit', '2', 'cohort', 'exam', '2']),\n",
       " ('phs000280.v3.pht004062.v1.RACEGRP',\n",
       "  ['race', 'ftra23', 'cohort', 'exam', '2']),\n",
       " ('phs000280.v3.pht004062.v1.GENDER',\n",
       "  ['sex', 'ftra22', 'cohort', 'exam', '2']),\n",
       " ('phs000280.v3.pht004063.v1.RACEGRP',\n",
       "  ['race', 'ftra23', 'cohort', 'exam', '1']),\n",
       " ('phs000280.v3.pht004063.v1.GENDER',\n",
       "  ['sex', 'uncorrected', 'ftra22', 'cohort', 'exam', '1']),\n",
       " ('phs000280.v3.pht004063.v1.V1AGE01',\n",
       "  ['age', 'visit', '1', 'cohort', 'exam', '1']),\n",
       " ('phs000280.v3.pht004063.v1.ELEVEL01',\n",
       "  ['education', 'level', 'definition', '1', 'cohort', 'exam', '1']),\n",
       " ('phs000280.v3.pht004064.v1.V3AGE31',\n",
       "  ['age', 'visit', '3', 'cohort', 'exam', '3']),\n",
       " ('phs000280.v3.pht004065.v1.RACEGRP',\n",
       "  ['race', 'ftra23', 'cohort', 'exam', '4']),\n",
       " ('phs000280.v3.pht004065.v1.GENDER',\n",
       "  ['sex', 'ftra22', 'cohort', 'exam', '4']),\n",
       " ('phs000280.v3.pht004065.v1.V4AGE41',\n",
       "  ['age', 'visit', '4', 'cohort', 'exam', '4']),\n",
       " ('phs000280.v3.pht004116.v1.ISP07',\n",
       "  ['mi', 'fatchd', 'smi', 'procedure', '2007']),\n",
       " ('phs000280.v3.pht004116.v1.DEAD07', ['dead', '2007', 'dth', 'ndi', 'afu']),\n",
       " ('phs000280.v3.pht004118.v1.AFINCBY05',\n",
       "  ['incident',\n",
       "   'atrial',\n",
       "   'fibrillation',\n",
       "   'event',\n",
       "   'determined',\n",
       "   'source',\n",
       "   '31decyy']),\n",
       " ('phs000280.v3.pht004118.v1.FT05AFINC',\n",
       "  ['follow',\n",
       "   'time',\n",
       "   'day',\n",
       "   'incident',\n",
       "   'atrial',\n",
       "   'fibrillation',\n",
       "   'event',\n",
       "   'determined',\n",
       "   'hospital',\n",
       "   'discharge',\n",
       "   'code',\n",
       "   'cohort',\n",
       "   'eligibility',\n",
       "   'form',\n",
       "   'cel']),\n",
       " ('phs000280.v3.pht004118.v1.AFLINCBY05',\n",
       "  ['incident',\n",
       "   'atrial',\n",
       "   'flutter',\n",
       "   'event',\n",
       "   'determined',\n",
       "   'hospital',\n",
       "   'discharge',\n",
       "   'code',\n",
       "   'cohort',\n",
       "   'eligibility',\n",
       "   'form',\n",
       "   'cel',\n",
       "   'cohort',\n",
       "   'visit',\n",
       "   '2',\n",
       "   '3',\n",
       "   '4']),\n",
       " ('phs000280.v3.pht004118.v1.FT05AFLINC',\n",
       "  ['follow',\n",
       "   'time',\n",
       "   'incident',\n",
       "   'atrial',\n",
       "   'flutter',\n",
       "   'event',\n",
       "   'determined',\n",
       "   'hospital',\n",
       "   'discharge',\n",
       "   'code',\n",
       "   'cohort',\n",
       "   'eligibility',\n",
       "   'form',\n",
       "   'cel',\n",
       "   'cohort',\n",
       "   'visit',\n",
       "   '2',\n",
       "   '3',\n",
       "   '4']),\n",
       " ('phs000280.v3.pht004137.v1.TCAL',\n",
       "  ['energy', 'kcal', 'nutrient', 'exam', '2']),\n",
       " ('phs000280.v3.pht004137.v1.ALCO',\n",
       "  ['alcohol', 'intake', 'g', 'per', 'day', 'nutrient', 'exam', '2']),\n",
       " ('phs000280.v3.pht004138.v1.TCAL',\n",
       "  ['energy',\n",
       "   'kcal',\n",
       "   'nutrient',\n",
       "   'excluded',\n",
       "   'person',\n",
       "   'extreme',\n",
       "   'calorie',\n",
       "   'many',\n",
       "   'missing',\n",
       "   'food',\n",
       "   'exam',\n",
       "   '2']),\n",
       " ('phs000280.v3.pht004138.v1.ALCO',\n",
       "  ['alcohol',\n",
       "   'intake',\n",
       "   'g',\n",
       "   'per',\n",
       "   'day',\n",
       "   'nutrient',\n",
       "   'excluded',\n",
       "   'person',\n",
       "   'extreme',\n",
       "   'calorie',\n",
       "   'many',\n",
       "   'missing',\n",
       "   'food',\n",
       "   'exam',\n",
       "   '2']),\n",
       " ('phs000280.v3.pht004139.v1.TCAL',\n",
       "  ['energy', 'kcal', 'nutrient', 'exam', '3']),\n",
       " ('phs000280.v3.pht004139.v1.ALCO',\n",
       "  ['alcohol', 'intake', 'g', 'per', 'day', 'nutrient', 'exam', '3']),\n",
       " ('phs000280.v3.pht004140.v1.TCAL',\n",
       "  ['energy',\n",
       "   'kcal',\n",
       "   'nutrient',\n",
       "   'excluded',\n",
       "   'person',\n",
       "   'extreme',\n",
       "   'calorie',\n",
       "   'many',\n",
       "   'missing',\n",
       "   'food',\n",
       "   'exam',\n",
       "   '3']),\n",
       " ('phs000280.v3.pht004140.v1.ALCO',\n",
       "  ['alcohol',\n",
       "   'intake',\n",
       "   'g',\n",
       "   'per',\n",
       "   'day',\n",
       "   'nutrient',\n",
       "   'excluded',\n",
       "   'person',\n",
       "   'extreme',\n",
       "   'calorie',\n",
       "   'many',\n",
       "   'missing',\n",
       "   'food',\n",
       "   'exam',\n",
       "   '3']),\n",
       " ('phs000280.v3.pht004206.v1.TCAL',\n",
       "  ['energy',\n",
       "   'kcal',\n",
       "   'nutrient',\n",
       "   'excluded',\n",
       "   'person',\n",
       "   'extreme',\n",
       "   'calorie',\n",
       "   'many',\n",
       "   'missing',\n",
       "   'food',\n",
       "   'exam',\n",
       "   '1']),\n",
       " ('phs000280.v3.pht004206.v1.ALCO',\n",
       "  ['alcohol',\n",
       "   'intake',\n",
       "   'g',\n",
       "   'per',\n",
       "   'day',\n",
       "   'nutrient',\n",
       "   'excluded',\n",
       "   'person',\n",
       "   'extreme',\n",
       "   'calorie',\n",
       "   'many',\n",
       "   'missing',\n",
       "   'food',\n",
       "   'exam',\n",
       "   '1']),\n",
       " ('phs000209.v13.pht001111.v4.race1c', ['race']),\n",
       " ('phs000209.v13.pht001111.v4.gender1', ['gender']),\n",
       " ('phs000209.v13.pht001111.v4.educ1',\n",
       "  ['education', 'highest', 'level', 'completed']),\n",
       " ('phs000209.v13.pht001111.v4.age1c', ['age']),\n",
       " ('phs000209.v13.pht001116.v10.race1c', ['race', 'ethnicity']),\n",
       " ('phs000209.v13.pht001116.v10.gender1', ['gender']),\n",
       " ('phs000209.v13.pht001116.v10.educ1',\n",
       "  ['education', 'highest', 'level', 'completed']),\n",
       " ('phs000209.v13.pht001116.v10.age1c', ['age']),\n",
       " ('phs000209.v13.pht001118.v8.race1c', ['race', 'ethnicity']),\n",
       " ('phs000209.v13.pht001118.v8.gender1', ['gender']),\n",
       " ('phs000209.v13.pht001118.v8.age2c', ['age', 'exam', '2']),\n",
       " ('phs000209.v13.pht001119.v8.race1c', ['race', 'ethnicity']),\n",
       " ('phs000209.v13.pht001119.v8.gender1', ['gender']),\n",
       " ('phs000209.v13.pht001119.v8.age3c', ['age', 'exam3']),\n",
       " ('phs000209.v13.pht001120.v10.race1c', ['race', 'ethnicity']),\n",
       " ('phs000209.v13.pht001120.v10.gender1', ['gender']),\n",
       " ('phs000209.v13.pht001120.v10.age4c', ['age', 'exam', '4']),\n",
       " ('phs000209.v13.pht001123.v7.dth', ['death']),\n",
       " ('phs000209.v13.pht001123.v7.chda', ['coronary', 'heart', 'disease', 'chd']),\n",
       " ('phs000209.v13.pht001123.v7.cvda', ['cardiovascular', 'disease', 'cvd']),\n",
       " ('phs000209.v13.pht001217.v5.afib', ['atrial', 'fibrillation', 'diagnosis']),\n",
       " ('phs000209.v13.pht001217.v5.afibtt',\n",
       "  ['atrial', 'fibrillation', 'time', 'baseline', 'diagnosis', 'day']),\n",
       " ('phs000209.v13.pht003086.v3.race1c', ['race', 'ethnicity']),\n",
       " ('phs000209.v13.pht003086.v3.gender1', ['gender']),\n",
       " ('phs000209.v13.pht003086.v3.age5c', ['age', 'exam', '5']),\n",
       " ('phs000209.v13.pht003087.v1.age1c', ['age']),\n",
       " ('phs000209.v13.pht003087.v1.race1c', ['race']),\n",
       " ('phs000209.v13.pht003087.v1.gender1', ['gender']),\n",
       " ('phs000209.v13.pht003087.v1.educ1',\n",
       "  ['education', 'highest', 'level', 'completed']),\n",
       " ('phs000209.v13.pht003091.v3.race1c', ['race', 'ethnicity']),\n",
       " ('phs000209.v13.pht003091.v3.gender1', ['gender']),\n",
       " ('phs000209.v13.pht003091.v3.age5c', ['age', 'exam', '5']),\n",
       " ('phs000209.v13.pht003091.v3.mriage5', ['age', 'exam', '5', 'mri']),\n",
       " ('phs000209.v13.pht004326.v1.educ1',\n",
       "  ['education', 'highest', 'level', 'completed', 'baseline', 'mesa', 'exam']),\n",
       " ('phs000209.v13.pht004326.v1.race1c', ['race']),\n",
       " ('phs000209.v13.pht004326.v1.gender1', ['gender'])]"
      ]
     },
     "execution_count": 13,
     "metadata": {},
     "output_type": "execute_result"
    }
   ],
   "source": [
    "cb.corpora[0]"
   ]
  },
  {
   "cell_type": "code",
   "execution_count": 10,
   "metadata": {
    "collapsed": false
   },
   "outputs": [],
   "source": [
    "cb.calc_tfidf()"
   ]
  },
  {
   "cell_type": "code",
   "execution_count": 12,
   "metadata": {
    "collapsed": false
   },
   "outputs": [
    {
     "name": "stderr",
     "output_type": "stream",
     "text": [
      "  0%|                                                       |(elapsed: 0:00:00)\r"
     ]
    },
    {
     "name": "stderr",
     "output_type": "stream",
     "text": [
      "  1%|                                                       |(elapsed: 0:00:00)\r"
     ]
    },
    {
     "name": "stderr",
     "output_type": "stream",
     "text": [
      "  2%|#                                                      |(elapsed: 0:00:01)\r"
     ]
    },
    {
     "name": "stderr",
     "output_type": "stream",
     "text": [
      "  3%|##                                                     |(elapsed: 0:00:01)\r"
     ]
    },
    {
     "name": "stderr",
     "output_type": "stream",
     "text": [
      "  4%|##                                                     |(elapsed: 0:00:02)\r"
     ]
    },
    {
     "name": "stderr",
     "output_type": "stream",
     "text": [
      "  6%|###                                                    |(elapsed: 0:00:03)\r"
     ]
    },
    {
     "name": "stderr",
     "output_type": "stream",
     "text": [
      "  7%|####                                                   |(elapsed: 0:00:03)\r"
     ]
    },
    {
     "name": "stderr",
     "output_type": "stream",
     "text": [
      "  8%|####                                                   |(elapsed: 0:00:04)\r"
     ]
    },
    {
     "name": "stderr",
     "output_type": "stream",
     "text": [
      "  9%|#####                                                  |(elapsed: 0:00:05)\r"
     ]
    },
    {
     "name": "stderr",
     "output_type": "stream",
     "text": [
      " 11%|######                                                 |(elapsed: 0:00:06)\r"
     ]
    },
    {
     "name": "stderr",
     "output_type": "stream",
     "text": [
      " 12%|######                                                 |(elapsed: 0:00:06)\r"
     ]
    },
    {
     "name": "stderr",
     "output_type": "stream",
     "text": [
      " 13%|#######                                                |(elapsed: 0:00:07)\r"
     ]
    },
    {
     "name": "stderr",
     "output_type": "stream",
     "text": [
      " 14%|########                                               |(elapsed: 0:00:08)\r"
     ]
    },
    {
     "name": "stderr",
     "output_type": "stream",
     "text": [
      " 15%|########                                               |(elapsed: 0:00:09)\r"
     ]
    },
    {
     "name": "stderr",
     "output_type": "stream",
     "text": [
      " 17%|#########                                              |(elapsed: 0:00:09)\r"
     ]
    },
    {
     "name": "stderr",
     "output_type": "stream",
     "text": [
      " 18%|##########                                             |(elapsed: 0:00:10)\r"
     ]
    },
    {
     "name": "stderr",
     "output_type": "stream",
     "text": [
      " 19%|##########                                             |(elapsed: 0:00:11)\r"
     ]
    },
    {
     "name": "stderr",
     "output_type": "stream",
     "text": [
      " 20%|###########                                            |(elapsed: 0:00:11)\r"
     ]
    },
    {
     "name": "stderr",
     "output_type": "stream",
     "text": [
      " 22%|############                                           |(elapsed: 0:00:12)\r"
     ]
    },
    {
     "name": "stderr",
     "output_type": "stream",
     "text": [
      " 23%|############                                           |(elapsed: 0:00:13)\r"
     ]
    },
    {
     "name": "stderr",
     "output_type": "stream",
     "text": [
      " 24%|#############                                          |(elapsed: 0:00:14)\r"
     ]
    },
    {
     "name": "stderr",
     "output_type": "stream",
     "text": [
      " 25%|##############                                         |(elapsed: 0:00:14)\r"
     ]
    },
    {
     "name": "stderr",
     "output_type": "stream",
     "text": [
      " 26%|##############                                         |(elapsed: 0:00:15)\r"
     ]
    },
    {
     "name": "stderr",
     "output_type": "stream",
     "text": [
      " 28%|###############                                        |(elapsed: 0:00:16)\r"
     ]
    },
    {
     "name": "stderr",
     "output_type": "stream",
     "text": [
      " 29%|################                                       |(elapsed: 0:00:17)\r"
     ]
    },
    {
     "name": "stderr",
     "output_type": "stream",
     "text": [
      " 30%|################                                       |(elapsed: 0:00:18)\r"
     ]
    },
    {
     "name": "stderr",
     "output_type": "stream",
     "text": [
      " 31%|#################                                      |(elapsed: 0:00:18)\r"
     ]
    },
    {
     "name": "stderr",
     "output_type": "stream",
     "text": [
      " 33%|##################                                     |(elapsed: 0:00:19)\r"
     ]
    },
    {
     "name": "stderr",
     "output_type": "stream",
     "text": [
      " 34%|##################                                     |(elapsed: 0:00:20)\r"
     ]
    },
    {
     "name": "stderr",
     "output_type": "stream",
     "text": [
      " 35%|###################                                    |(elapsed: 0:00:21)\r"
     ]
    },
    {
     "name": "stderr",
     "output_type": "stream",
     "text": [
      " 36%|####################                                   |(elapsed: 0:00:22)\r"
     ]
    },
    {
     "name": "stderr",
     "output_type": "stream",
     "text": [
      " 38%|####################                                   |(elapsed: 0:00:22)\r"
     ]
    },
    {
     "name": "stderr",
     "output_type": "stream",
     "text": [
      " 39%|#####################                                  |(elapsed: 0:00:23)\r"
     ]
    },
    {
     "name": "stderr",
     "output_type": "stream",
     "text": [
      " 40%|######################                                 |(elapsed: 0:00:24)\r"
     ]
    },
    {
     "name": "stderr",
     "output_type": "stream",
     "text": [
      " 41%|######################                                 |(elapsed: 0:00:25)\r"
     ]
    },
    {
     "name": "stderr",
     "output_type": "stream",
     "text": [
      " 42%|#######################                                |(elapsed: 0:00:26)\r"
     ]
    },
    {
     "name": "stderr",
     "output_type": "stream",
     "text": [
      " 44%|########################                               |(elapsed: 0:00:26)\r"
     ]
    },
    {
     "name": "stderr",
     "output_type": "stream",
     "text": [
      " 45%|########################                               |(elapsed: 0:00:27)\r"
     ]
    },
    {
     "name": "stderr",
     "output_type": "stream",
     "text": [
      " 46%|#########################                              |(elapsed: 0:00:28)\r"
     ]
    },
    {
     "name": "stderr",
     "output_type": "stream",
     "text": [
      " 47%|##########################                             |(elapsed: 0:00:29)\r"
     ]
    },
    {
     "name": "stderr",
     "output_type": "stream",
     "text": [
      " 49%|##########################                             |(elapsed: 0:00:30)\r"
     ]
    },
    {
     "name": "stderr",
     "output_type": "stream",
     "text": [
      " 50%|###########################                            |(elapsed: 0:00:31)\r"
     ]
    },
    {
     "name": "stderr",
     "output_type": "stream",
     "text": [
      " 51%|############################                           |(elapsed: 0:00:32)\r"
     ]
    },
    {
     "name": "stderr",
     "output_type": "stream",
     "text": [
      " 52%|#############################                          |(elapsed: 0:00:33)\r"
     ]
    },
    {
     "name": "stderr",
     "output_type": "stream",
     "text": [
      " 53%|#############################                          |(elapsed: 0:00:33)\r"
     ]
    },
    {
     "name": "stderr",
     "output_type": "stream",
     "text": [
      " 55%|##############################                         |(elapsed: 0:00:34)\r"
     ]
    },
    {
     "name": "stderr",
     "output_type": "stream",
     "text": [
      " 56%|###############################                        |(elapsed: 0:00:35)\r"
     ]
    },
    {
     "name": "stderr",
     "output_type": "stream",
     "text": [
      " 57%|###############################                        |(elapsed: 0:00:36)\r"
     ]
    },
    {
     "name": "stderr",
     "output_type": "stream",
     "text": [
      " 58%|################################                       |(elapsed: 0:00:37)\r"
     ]
    },
    {
     "name": "stderr",
     "output_type": "stream",
     "text": [
      " 60%|#################################                      |(elapsed: 0:00:38)\r"
     ]
    },
    {
     "name": "stderr",
     "output_type": "stream",
     "text": [
      " 61%|#################################                      |(elapsed: 0:00:39)\r"
     ]
    },
    {
     "name": "stderr",
     "output_type": "stream",
     "text": [
      " 62%|##################################                     |(elapsed: 0:00:40)\r"
     ]
    },
    {
     "name": "stderr",
     "output_type": "stream",
     "text": [
      " 63%|###################################                    |(elapsed: 0:00:41)\r"
     ]
    },
    {
     "name": "stderr",
     "output_type": "stream",
     "text": [
      " 65%|###################################                    |(elapsed: 0:00:42)\r"
     ]
    },
    {
     "name": "stderr",
     "output_type": "stream",
     "text": [
      " 66%|####################################                   |(elapsed: 0:00:43)\r"
     ]
    },
    {
     "name": "stderr",
     "output_type": "stream",
     "text": [
      " 67%|#####################################                  |(elapsed: 0:00:44)\r"
     ]
    },
    {
     "name": "stderr",
     "output_type": "stream",
     "text": [
      " 68%|#####################################                  |(elapsed: 0:00:45)\r"
     ]
    },
    {
     "name": "stderr",
     "output_type": "stream",
     "text": [
      " 69%|######################################                 |(elapsed: 0:00:46)\r"
     ]
    },
    {
     "name": "stderr",
     "output_type": "stream",
     "text": [
      " 71%|#######################################                |(elapsed: 0:00:46)\r"
     ]
    },
    {
     "name": "stderr",
     "output_type": "stream",
     "text": [
      " 72%|#######################################                |(elapsed: 0:00:47)\r"
     ]
    },
    {
     "name": "stderr",
     "output_type": "stream",
     "text": [
      " 73%|########################################               |(elapsed: 0:00:48)\r"
     ]
    },
    {
     "name": "stderr",
     "output_type": "stream",
     "text": [
      " 74%|#########################################              |(elapsed: 0:00:49)\r"
     ]
    },
    {
     "name": "stderr",
     "output_type": "stream",
     "text": [
      " 76%|#########################################              |(elapsed: 0:00:50)\r"
     ]
    },
    {
     "name": "stderr",
     "output_type": "stream",
     "text": [
      " 77%|##########################################             |(elapsed: 0:00:51)\r"
     ]
    },
    {
     "name": "stderr",
     "output_type": "stream",
     "text": [
      " 78%|###########################################            |(elapsed: 0:00:53)\r"
     ]
    },
    {
     "name": "stderr",
     "output_type": "stream",
     "text": [
      " 79%|###########################################            |(elapsed: 0:00:54)\r"
     ]
    },
    {
     "name": "stderr",
     "output_type": "stream",
     "text": [
      " 80%|############################################           |(elapsed: 0:00:55)\r"
     ]
    },
    {
     "name": "stderr",
     "output_type": "stream",
     "text": [
      " 82%|#############################################          |(elapsed: 0:00:56)\r"
     ]
    },
    {
     "name": "stderr",
     "output_type": "stream",
     "text": [
      " 83%|#############################################          |(elapsed: 0:00:57)\r"
     ]
    },
    {
     "name": "stderr",
     "output_type": "stream",
     "text": [
      " 84%|##############################################         |(elapsed: 0:00:58)\r"
     ]
    },
    {
     "name": "stderr",
     "output_type": "stream",
     "text": [
      " 85%|###############################################        |(elapsed: 0:00:59)\r"
     ]
    },
    {
     "name": "stderr",
     "output_type": "stream",
     "text": [
      " 87%|###############################################        |(elapsed: 0:01:00)\r"
     ]
    },
    {
     "name": "stderr",
     "output_type": "stream",
     "text": [
      " 88%|################################################       |(elapsed: 0:01:01)\r"
     ]
    },
    {
     "name": "stderr",
     "output_type": "stream",
     "text": [
      " 89%|#################################################      |(elapsed: 0:01:02)\r"
     ]
    },
    {
     "name": "stderr",
     "output_type": "stream",
     "text": [
      " 90%|#################################################      |(elapsed: 0:01:03)\r"
     ]
    },
    {
     "name": "stderr",
     "output_type": "stream",
     "text": [
      " 92%|##################################################     |(elapsed: 0:01:05)\r"
     ]
    },
    {
     "name": "stderr",
     "output_type": "stream",
     "text": [
      " 93%|###################################################    |(elapsed: 0:01:06)\r"
     ]
    },
    {
     "name": "stderr",
     "output_type": "stream",
     "text": [
      " 94%|###################################################    |(elapsed: 0:01:07)\r"
     ]
    },
    {
     "name": "stderr",
     "output_type": "stream",
     "text": [
      " 95%|####################################################   |(elapsed: 0:01:08)\r"
     ]
    },
    {
     "name": "stderr",
     "output_type": "stream",
     "text": [
      " 96%|#####################################################  |(elapsed: 0:01:09)\r"
     ]
    },
    {
     "name": "stderr",
     "output_type": "stream",
     "text": [
      " 98%|#####################################################  |(elapsed: 0:01:10)\r"
     ]
    },
    {
     "name": "stderr",
     "output_type": "stream",
     "text": [
      " 99%|###################################################### |(elapsed: 0:01:12)\r"
     ]
    },
    {
     "name": "stderr",
     "output_type": "stream",
     "text": [
      "100%|#######################################################|(elapsed: 0:01:12)\r"
     ]
    },
    {
     "name": "stdout",
     "output_type": "stream",
     "text": [
      "Filtering matched 163 of 163 variables\n"
     ]
    },
    {
     "name": "stderr",
     "output_type": "stream",
     "text": [
      "\n"
     ]
    }
   ],
   "source": [
    "v = VariableSimilarityCalculator(data[ref_id_col])\n",
    "v.init_cache()\n",
    "v.score_variables(cb.corpora[0], cb.tfidf_matrix)"
   ]
  },
  {
   "cell_type": "code",
   "execution_count": 99,
   "metadata": {
    "collapsed": false
   },
   "outputs": [],
   "source": [
    "orig_out_file_name = \"tests/orig_file_out.csv\"\n",
    "orig_data = pd.read_csv(orig_out_file_name)"
   ]
  },
  {
   "cell_type": "code",
   "execution_count": 101,
   "metadata": {
    "collapsed": false
   },
   "outputs": [
    {
     "data": {
      "text/plain": [
       "(26406, 3)"
      ]
     },
     "execution_count": 101,
     "metadata": {},
     "output_type": "execute_result"
    }
   ],
   "source": [
    "v.cache.shape"
   ]
  },
  {
   "cell_type": "code",
   "execution_count": 133,
   "metadata": {
    "collapsed": false
   },
   "outputs": [],
   "source": [
    "comb = pd.merge(orig_data, v.cache, how='left', left_on=[ 'metadataID_1', 'metadataID_2' ], right_on=[ 'reference var', 'paired var' ]).round(6)\n"
   ]
  },
  {
   "cell_type": "code",
   "execution_count": 138,
   "metadata": {
    "collapsed": false
   },
   "outputs": [],
   "source": [
    "assert comb.loc[comb['score'] == comb['score_desc']][[\"score_desc\", \"score\", \"reference var\", \"metadataID_1\", \"metadataID_2\", \"paired var\"]].shape[0] == orig_data.shape[0]"
   ]
  }
 ],
 "metadata": {
  "kernelspec": {
   "argv": [
    "/home/harrisonpl/.conda/envs/avm2/bin/python",
    "-m",
    "ipykernel_launcher",
    "-f",
    "{connection_file}"
   ],
   "display_name": "Python 2",
   "env": null,
   "interrupt_mode": "signal",
   "language": "python",
   "metadata": null,
   "name": "python2"
  },
  "language_info": {
   "codemirror_mode": {
    "name": "ipython",
    "version": 2
   },
   "file_extension": ".py",
   "mimetype": "text/x-python",
   "name": "python",
   "nbconvert_exporter": "python",
   "pygments_lexer": "ipython2",
   "version": "2.7.18"
  },
  "name": "test_subset_vocab_sim.ipynb"
 },
 "nbformat": 4,
 "nbformat_minor": 2
}
