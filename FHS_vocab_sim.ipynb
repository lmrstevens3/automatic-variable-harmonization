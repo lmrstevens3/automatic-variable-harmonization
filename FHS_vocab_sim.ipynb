{
 "cells": [
  {
   "cell_type": "code",
   "execution_count": 4,
   "metadata": {
    "collapsed": false
   },
   "outputs": [],
   "source": [
    "from automatic_variable_mapping import corpus\n",
    "from automatic_variable_mapping.vocab_similarity import VariableSimilarityCalculator\n",
    "import pandas as pd\n",
    "import time\n",
    "import numpy as np"
   ]
  },
  {
   "cell_type": "code",
   "execution_count": 17,
   "metadata": {
    "collapsed": false
   },
   "outputs": [],
   "source": [
    "ref_id_col = 'varDocID_1'\n",
    "doc_col = 'var_desc_1'\n",
    "# doc_col = list(\"var_desc_1”, “units_1, “var_coding_counts_distribution_1)\n",
    "data_file = \"tiff_laura_shared/FHS_CHS_ARIC_MESA_varDoc_dbGaP_NLP.csv\"\n",
    "score_file = 'tests/test_var_similarity_scores_rank_data.csv'"
   ]
  },
  {
   "cell_type": "code",
   "execution_count": 18,
   "metadata": {
    "collapsed": false
   },
   "outputs": [
    {
     "data": {
      "text/plain": "Index([u'data_desc_1', u'varID_1', u'var_desc_1', u'units_1',\n       u'var_coding_labels_1', u'study_1', u'dbGaP_dataset_label_1',\n       u'var_coding_counts_distribution_1', u'varDocID_1',\n       u'dbGaP_studyID_datasetID_1', u'timeIntervalDbGaP_1',\n       u'detailedTimeIntervalDbGaP_1', u'cohort_dbGaP_1'],\n      dtype='object')"
     },
     "execution_count": 18,
     "metadata": {},
     "output_type": "execute_result"
    }
   ],
   "source": [
    "data = pd.read_csv(data_file,\n",
    "                      sep=\",\",\n",
    "                      quotechar='\"',\n",
    "                      na_values=\"\",\n",
    "                      low_memory=False)\n",
    "data.columns"
   ]
  },
  {
   "cell_type": "code",
   "execution_count": 20,
   "metadata": {
    "collapsed": false
   },
   "outputs": [],
   "source": [
    "corpora = corpus.build_corpora([doc_col], [data], ref_id_col)"
   ]
  },
  {
   "cell_type": "code",
   "execution_count": 12,
   "metadata": {
    "collapsed": false
   },
   "outputs": [
    {
     "ename": "NameError",
     "evalue": "name 'corpora' is not defined",
     "output_type": "error",
     "traceback": [
      "\u001B[0;31m\u001B[0m",
      "\u001B[0;31mNameError\u001B[0mTraceback (most recent call last)",
      "\u001B[0;32m<ipython-input-12-bdef1a6fbd51>\u001B[0m in \u001B[0;36m<module>\u001B[0;34m()\u001B[0m\n\u001B[1;32m      1\u001B[0m \u001B[0;34m\u001B[0m\u001B[0m\n\u001B[0;32m----> 2\u001B[0;31m \u001B[0mtfidf_matrix\u001B[0m \u001B[0;34m=\u001B[0m \u001B[0mcorpus\u001B[0m\u001B[0;34m.\u001B[0m\u001B[0mcalc_tfidf\u001B[0m\u001B[0;34m(\u001B[0m\u001B[0mcorpora\u001B[0m\u001B[0;34m)\u001B[0m\u001B[0;34m\u001B[0m\u001B[0m\n\u001B[0m\u001B[1;32m      3\u001B[0m \u001B[0;34m\u001B[0m\u001B[0m\n",
      "\u001B[0;31mNameError\u001B[0m: name 'corpora' is not defined"
     ]
    }
   ],
   "source": [
    "tfidf_matrix = corpus.calc_tfidf(corpora)"
   ]
  },
  {
   "cell_type": "code",
   "execution_count": 12,
   "metadata": {
    "collapsed": false
   },
   "outputs": [
    {
     "name": "stderr",
     "output_type": "stream",
     "text": [
      "  0%|                                                       |(elapsed: 0:00:00)\r"
     ]
    },
    {
     "name": "stderr",
     "output_type": "stream",
     "text": [
      "  1%|                                                       |(elapsed: 0:00:00)\r"
     ]
    },
    {
     "name": "stderr",
     "output_type": "stream",
     "text": [
      "  2%|#                                                      |(elapsed: 0:00:01)\r"
     ]
    },
    {
     "name": "stderr",
     "output_type": "stream",
     "text": [
      "  3%|##                                                     |(elapsed: 0:00:01)\r"
     ]
    },
    {
     "name": "stderr",
     "output_type": "stream",
     "text": [
      "  4%|##                                                     |(elapsed: 0:00:02)\r"
     ]
    },
    {
     "name": "stderr",
     "output_type": "stream",
     "text": [
      "  6%|###                                                    |(elapsed: 0:00:03)\r"
     ]
    },
    {
     "name": "stderr",
     "output_type": "stream",
     "text": [
      "  7%|####                                                   |(elapsed: 0:00:03)\r"
     ]
    },
    {
     "name": "stderr",
     "output_type": "stream",
     "text": [
      "  8%|####                                                   |(elapsed: 0:00:04)\r"
     ]
    },
    {
     "name": "stderr",
     "output_type": "stream",
     "text": [
      "  9%|#####                                                  |(elapsed: 0:00:05)\r"
     ]
    },
    {
     "name": "stderr",
     "output_type": "stream",
     "text": [
      " 11%|######                                                 |(elapsed: 0:00:06)\r"
     ]
    },
    {
     "name": "stderr",
     "output_type": "stream",
     "text": [
      " 12%|######                                                 |(elapsed: 0:00:06)\r"
     ]
    },
    {
     "name": "stderr",
     "output_type": "stream",
     "text": [
      " 13%|#######                                                |(elapsed: 0:00:07)\r"
     ]
    },
    {
     "name": "stderr",
     "output_type": "stream",
     "text": [
      " 14%|########                                               |(elapsed: 0:00:08)\r"
     ]
    },
    {
     "name": "stderr",
     "output_type": "stream",
     "text": [
      " 15%|########                                               |(elapsed: 0:00:09)\r"
     ]
    },
    {
     "name": "stderr",
     "output_type": "stream",
     "text": [
      " 17%|#########                                              |(elapsed: 0:00:09)\r"
     ]
    },
    {
     "name": "stderr",
     "output_type": "stream",
     "text": [
      " 18%|##########                                             |(elapsed: 0:00:10)\r"
     ]
    },
    {
     "name": "stderr",
     "output_type": "stream",
     "text": [
      " 19%|##########                                             |(elapsed: 0:00:11)\r"
     ]
    },
    {
     "name": "stderr",
     "output_type": "stream",
     "text": [
      " 20%|###########                                            |(elapsed: 0:00:11)\r"
     ]
    },
    {
     "name": "stderr",
     "output_type": "stream",
     "text": [
      " 22%|############                                           |(elapsed: 0:00:12)\r"
     ]
    },
    {
     "name": "stderr",
     "output_type": "stream",
     "text": [
      " 23%|############                                           |(elapsed: 0:00:13)\r"
     ]
    },
    {
     "name": "stderr",
     "output_type": "stream",
     "text": [
      " 24%|#############                                          |(elapsed: 0:00:14)\r"
     ]
    },
    {
     "name": "stderr",
     "output_type": "stream",
     "text": [
      " 25%|##############                                         |(elapsed: 0:00:14)\r"
     ]
    },
    {
     "name": "stderr",
     "output_type": "stream",
     "text": [
      " 26%|##############                                         |(elapsed: 0:00:15)\r"
     ]
    },
    {
     "name": "stderr",
     "output_type": "stream",
     "text": [
      " 28%|###############                                        |(elapsed: 0:00:16)\r"
     ]
    },
    {
     "name": "stderr",
     "output_type": "stream",
     "text": [
      " 29%|################                                       |(elapsed: 0:00:17)\r"
     ]
    },
    {
     "name": "stderr",
     "output_type": "stream",
     "text": [
      " 30%|################                                       |(elapsed: 0:00:18)\r"
     ]
    },
    {
     "name": "stderr",
     "output_type": "stream",
     "text": [
      " 31%|#################                                      |(elapsed: 0:00:18)\r"
     ]
    },
    {
     "name": "stderr",
     "output_type": "stream",
     "text": [
      " 33%|##################                                     |(elapsed: 0:00:19)\r"
     ]
    },
    {
     "name": "stderr",
     "output_type": "stream",
     "text": [
      " 34%|##################                                     |(elapsed: 0:00:20)\r"
     ]
    },
    {
     "name": "stderr",
     "output_type": "stream",
     "text": [
      " 35%|###################                                    |(elapsed: 0:00:21)\r"
     ]
    },
    {
     "name": "stderr",
     "output_type": "stream",
     "text": [
      " 36%|####################                                   |(elapsed: 0:00:22)\r"
     ]
    },
    {
     "name": "stderr",
     "output_type": "stream",
     "text": [
      " 38%|####################                                   |(elapsed: 0:00:22)\r"
     ]
    },
    {
     "name": "stderr",
     "output_type": "stream",
     "text": [
      " 39%|#####################                                  |(elapsed: 0:00:23)\r"
     ]
    },
    {
     "name": "stderr",
     "output_type": "stream",
     "text": [
      " 40%|######################                                 |(elapsed: 0:00:24)\r"
     ]
    },
    {
     "name": "stderr",
     "output_type": "stream",
     "text": [
      " 41%|######################                                 |(elapsed: 0:00:25)\r"
     ]
    },
    {
     "name": "stderr",
     "output_type": "stream",
     "text": [
      " 42%|#######################                                |(elapsed: 0:00:26)\r"
     ]
    },
    {
     "name": "stderr",
     "output_type": "stream",
     "text": [
      " 44%|########################                               |(elapsed: 0:00:26)\r"
     ]
    },
    {
     "name": "stderr",
     "output_type": "stream",
     "text": [
      " 45%|########################                               |(elapsed: 0:00:27)\r"
     ]
    },
    {
     "name": "stderr",
     "output_type": "stream",
     "text": [
      " 46%|#########################                              |(elapsed: 0:00:28)\r"
     ]
    },
    {
     "name": "stderr",
     "output_type": "stream",
     "text": [
      " 47%|##########################                             |(elapsed: 0:00:29)\r"
     ]
    },
    {
     "name": "stderr",
     "output_type": "stream",
     "text": [
      " 49%|##########################                             |(elapsed: 0:00:30)\r"
     ]
    },
    {
     "name": "stderr",
     "output_type": "stream",
     "text": [
      " 50%|###########################                            |(elapsed: 0:00:31)\r"
     ]
    },
    {
     "name": "stderr",
     "output_type": "stream",
     "text": [
      " 51%|############################                           |(elapsed: 0:00:32)\r"
     ]
    },
    {
     "name": "stderr",
     "output_type": "stream",
     "text": [
      " 52%|#############################                          |(elapsed: 0:00:33)\r"
     ]
    },
    {
     "name": "stderr",
     "output_type": "stream",
     "text": [
      " 53%|#############################                          |(elapsed: 0:00:33)\r"
     ]
    },
    {
     "name": "stderr",
     "output_type": "stream",
     "text": [
      " 55%|##############################                         |(elapsed: 0:00:34)\r"
     ]
    },
    {
     "name": "stderr",
     "output_type": "stream",
     "text": [
      " 56%|###############################                        |(elapsed: 0:00:35)\r"
     ]
    },
    {
     "name": "stderr",
     "output_type": "stream",
     "text": [
      " 57%|###############################                        |(elapsed: 0:00:36)\r"
     ]
    },
    {
     "name": "stderr",
     "output_type": "stream",
     "text": [
      " 58%|################################                       |(elapsed: 0:00:37)\r"
     ]
    },
    {
     "name": "stderr",
     "output_type": "stream",
     "text": [
      " 60%|#################################                      |(elapsed: 0:00:38)\r"
     ]
    },
    {
     "name": "stderr",
     "output_type": "stream",
     "text": [
      " 61%|#################################                      |(elapsed: 0:00:39)\r"
     ]
    },
    {
     "name": "stderr",
     "output_type": "stream",
     "text": [
      " 62%|##################################                     |(elapsed: 0:00:40)\r"
     ]
    },
    {
     "name": "stderr",
     "output_type": "stream",
     "text": [
      " 63%|###################################                    |(elapsed: 0:00:41)\r"
     ]
    },
    {
     "name": "stderr",
     "output_type": "stream",
     "text": [
      " 65%|###################################                    |(elapsed: 0:00:42)\r"
     ]
    },
    {
     "name": "stderr",
     "output_type": "stream",
     "text": [
      " 66%|####################################                   |(elapsed: 0:00:43)\r"
     ]
    },
    {
     "name": "stderr",
     "output_type": "stream",
     "text": [
      " 67%|#####################################                  |(elapsed: 0:00:44)\r"
     ]
    },
    {
     "name": "stderr",
     "output_type": "stream",
     "text": [
      " 68%|#####################################                  |(elapsed: 0:00:45)\r"
     ]
    },
    {
     "name": "stderr",
     "output_type": "stream",
     "text": [
      " 69%|######################################                 |(elapsed: 0:00:46)\r"
     ]
    },
    {
     "name": "stderr",
     "output_type": "stream",
     "text": [
      " 71%|#######################################                |(elapsed: 0:00:46)\r"
     ]
    },
    {
     "name": "stderr",
     "output_type": "stream",
     "text": [
      " 72%|#######################################                |(elapsed: 0:00:47)\r"
     ]
    },
    {
     "name": "stderr",
     "output_type": "stream",
     "text": [
      " 73%|########################################               |(elapsed: 0:00:48)\r"
     ]
    },
    {
     "name": "stderr",
     "output_type": "stream",
     "text": [
      " 74%|#########################################              |(elapsed: 0:00:49)\r"
     ]
    },
    {
     "name": "stderr",
     "output_type": "stream",
     "text": [
      " 76%|#########################################              |(elapsed: 0:00:50)\r"
     ]
    },
    {
     "name": "stderr",
     "output_type": "stream",
     "text": [
      " 77%|##########################################             |(elapsed: 0:00:51)\r"
     ]
    },
    {
     "name": "stderr",
     "output_type": "stream",
     "text": [
      " 78%|###########################################            |(elapsed: 0:00:53)\r"
     ]
    },
    {
     "name": "stderr",
     "output_type": "stream",
     "text": [
      " 79%|###########################################            |(elapsed: 0:00:54)\r"
     ]
    },
    {
     "name": "stderr",
     "output_type": "stream",
     "text": [
      " 80%|############################################           |(elapsed: 0:00:55)\r"
     ]
    },
    {
     "name": "stderr",
     "output_type": "stream",
     "text": [
      " 82%|#############################################          |(elapsed: 0:00:56)\r"
     ]
    },
    {
     "name": "stderr",
     "output_type": "stream",
     "text": [
      " 83%|#############################################          |(elapsed: 0:00:57)\r"
     ]
    },
    {
     "name": "stderr",
     "output_type": "stream",
     "text": [
      " 84%|##############################################         |(elapsed: 0:00:58)\r"
     ]
    },
    {
     "name": "stderr",
     "output_type": "stream",
     "text": [
      " 85%|###############################################        |(elapsed: 0:00:59)\r"
     ]
    },
    {
     "name": "stderr",
     "output_type": "stream",
     "text": [
      " 87%|###############################################        |(elapsed: 0:01:00)\r"
     ]
    },
    {
     "name": "stderr",
     "output_type": "stream",
     "text": [
      " 88%|################################################       |(elapsed: 0:01:01)\r"
     ]
    },
    {
     "name": "stderr",
     "output_type": "stream",
     "text": [
      " 89%|#################################################      |(elapsed: 0:01:02)\r"
     ]
    },
    {
     "name": "stderr",
     "output_type": "stream",
     "text": [
      " 90%|#################################################      |(elapsed: 0:01:03)\r"
     ]
    },
    {
     "name": "stderr",
     "output_type": "stream",
     "text": [
      " 92%|##################################################     |(elapsed: 0:01:05)\r"
     ]
    },
    {
     "name": "stderr",
     "output_type": "stream",
     "text": [
      " 93%|###################################################    |(elapsed: 0:01:06)\r"
     ]
    },
    {
     "name": "stderr",
     "output_type": "stream",
     "text": [
      " 94%|###################################################    |(elapsed: 0:01:07)\r"
     ]
    },
    {
     "name": "stderr",
     "output_type": "stream",
     "text": [
      " 95%|####################################################   |(elapsed: 0:01:08)\r"
     ]
    },
    {
     "name": "stderr",
     "output_type": "stream",
     "text": [
      " 96%|#####################################################  |(elapsed: 0:01:09)\r"
     ]
    },
    {
     "name": "stderr",
     "output_type": "stream",
     "text": [
      " 98%|#####################################################  |(elapsed: 0:01:10)\r"
     ]
    },
    {
     "name": "stderr",
     "output_type": "stream",
     "text": [
      " 99%|###################################################### |(elapsed: 0:01:12)\r"
     ]
    },
    {
     "name": "stderr",
     "output_type": "stream",
     "text": [
      "100%|#######################################################|(elapsed: 0:01:12)\r"
     ]
    },
    {
     "name": "stdout",
     "output_type": "stream",
     "text": [
      "Filtering matched 163 of 163 variables\n"
     ]
    },
    {
     "name": "stderr",
     "output_type": "stream",
     "text": [
      "\n"
     ]
    }
   ],
   "source": [
    "v = VariableSimilarityCalculator(data[ref_id_col])\n",
    "v.init_cache()\n",
    "v.score_variables(corpora[0], cb.tfidf_matrix, num_cpus=3)"
   ]
  },
  {
   "cell_type": "code",
   "execution_count": 99,
   "metadata": {
    "collapsed": false
   },
   "outputs": [],
   "source": [
    "orig_out_file_name = \"tests/orig_file_out.csv\"\n",
    "orig_data = pd.read_csv(orig_out_file_name)"
   ]
  },
  {
   "cell_type": "code",
   "execution_count": 101,
   "metadata": {
    "collapsed": false
   },
   "outputs": [
    {
     "data": {
      "text/plain": [
       "(26406, 3)"
      ]
     },
     "execution_count": 101,
     "metadata": {},
     "output_type": "execute_result"
    }
   ],
   "source": [
    "v.cache.shape"
   ]
  },
  {
   "cell_type": "code",
   "execution_count": 133,
   "metadata": {
    "collapsed": false
   },
   "outputs": [],
   "source": [
    "comb = pd.merge(orig_data, v.cache, how='left', left_on=[ 'metadataID_1', 'metadataID_2' ], right_on=[ 'reference var', 'paired var' ]).round(6)\n"
   ]
  },
  {
   "cell_type": "code",
   "execution_count": 138,
   "metadata": {
    "collapsed": false
   },
   "outputs": [],
   "source": [
    "assert comb.loc[comb['score'] == comb['score_desc']][[\"score_desc\", \"score\", \"reference var\", \"metadataID_1\", \"metadataID_2\", \"paired var\"]].shape[0] == orig_data.shape[0]"
   ]
  }
 ],
 "metadata": {
  "kernelspec": {
   "argv": [
    "/home/harrisonpl/.conda/envs/avm2/bin/python",
    "-m",
    "ipykernel_launcher",
    "-f",
    "{connection_file}"
   ],
   "display_name": "Python 2",
   "env": null,
   "interrupt_mode": "signal",
   "language": "python",
   "metadata": null,
   "name": "python2"
  },
  "language_info": {
   "codemirror_mode": {
    "name": "ipython",
    "version": 2
   },
   "file_extension": ".py",
   "mimetype": "text/x-python",
   "name": "python",
   "nbconvert_exporter": "python",
   "pygments_lexer": "ipython2",
   "version": "2.7.18"
  },
  "name": "FHS_vocab_sim.ipynb"
 },
 "nbformat": 4,
 "nbformat_minor": 2
}